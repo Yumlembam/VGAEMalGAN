{
 "cells": [
  {
   "cell_type": "code",
   "execution_count": null,
   "id": "smart-paragraph",
   "metadata": {},
   "outputs": [],
   "source": [
    "from glob import glob\n",
    "import pickle\n",
    "import csv\n",
    "import pandas\n",
    "import numpy as np\n",
    "from scipy import sparse\n",
    "import torch\n",
    "import xml.etree.ElementTree as ET\n",
    "import os\n"
   ]
  },
  {
   "cell_type": "code",
   "execution_count": null,
   "id": "central-czech",
   "metadata": {},
   "outputs": [],
   "source": [
    "paths=[r\"D:\\Andriod_GCN_andVGAEMalGAN\\data\\raw\\class0\\/\",r\"D:\\Andriod_GCN_andVGAEMalGAN\\data\\raw\\class1\\/\"]\n",
    "count=0\n",
    "for l in paths:\n",
    "    data=os.listdir(l)   \n",
    "    for md5 in data:\n",
    "        try:\n",
    "            intent_list=[]\n",
    "            premission_list=[]\n",
    "            root = ET.parse(l+md5+\"\\AndroidManifest.xml\").getroot()\n",
    "            permissions = root.findall(\"uses-permission\")\n",
    "            for perm in permissions:\n",
    "                for att in perm.attrib:\n",
    "                    premission_list.append(perm.attrib[att])\n",
    "            for i in root:\n",
    "                for item in root.findall('application'):\n",
    "                    for child in item.findall('activity'):\n",
    "                        for u in child:\n",
    "                            for k in u.findall('action'):\n",
    "                                for action in k.attrib:\n",
    "                                     intent_list.append(k.attrib[action])\n",
    "                            for k in u.findall('category'):\n",
    "                                for action in k.attrib:\n",
    "                                     intent_list.append(k.attrib[action])\n",
    "            set_intent_list=list(set(intent_list))\n",
    "            set_permission_list=list(set(premission_list))\n",
    "            total_list=set_permission_list+set_intent_list\n",
    "        except Exception as e:\n",
    "            print(e)\n",
    "        try:\n",
    "            if count==0:\n",
    "                intent_data = open(r'D:\\Andriod_GCN_andVGAEMalGAN\\permission\\class0_permission\\/'+md5+\".txt\",'wb')\n",
    "            if count==1:\n",
    "                intent_data = open(r'D:\\Andriod_GCN_andVGAEMalGAN\\permission\\class1_permission\\/'+md5+\".txt\",'wb')    \n",
    "            pickle.dump(total_list,intent_data)\n",
    "            intent_data.close()\n",
    "                \n",
    "        except Exception as e:\n",
    "            print(e)\n",
    "            print(\"Intent save failed\")\n",
    "    count=count+1"
   ]
  },
  {
   "cell_type": "code",
   "execution_count": null,
   "id": "strong-flight",
   "metadata": {},
   "outputs": [],
   "source": [
    "api_benign_folder=r'D:\\Andriod_GCN_andVGAEMalGAN\\permission\\class0_permission'\n",
    "api_malware_folder=r'D:\\Andriod_GCN_andVGAEMalGAN\\permission\\class1_permission'\n",
    "api_benign_paths=glob(f'{api_benign_folder}/*.txt')\n",
    "api_malware_paths=glob(f'{api_malware_folder}/*.txt')\n"
   ]
  },
  {
   "cell_type": "code",
   "execution_count": null,
   "id": "cardiovascular-welsh",
   "metadata": {},
   "outputs": [],
   "source": [
    "api_intents=[]\n",
    "for i in api_benign_paths:\n",
    "    with open(i, 'rb') as f:\n",
    "        prem_intent = pickle.load(f)\n",
    "        api_intents.append(prem_intent)\n",
    "print(len(api_intents))"
   ]
  },
  {
   "cell_type": "code",
   "execution_count": null,
   "id": "changed-helmet",
   "metadata": {},
   "outputs": [],
   "source": [
    "for i in api_malware_paths:\n",
    "    with open(i, 'rb') as f:\n",
    "        prem_intent = pickle.load(f)\n",
    "        api_intents.append(prem_intent)\n",
    "print(len(api_intents))"
   ]
  },
  {
   "cell_type": "code",
   "execution_count": null,
   "id": "coastal-amendment",
   "metadata": {},
   "outputs": [],
   "source": [
    "final_api_intent = [val for sublist in api_intents for val in sublist]\n",
    "unique_final_api_intent = list(set(final_api_intent))"
   ]
  },
  {
   "cell_type": "code",
   "execution_count": null,
   "id": "painted-latvia",
   "metadata": {},
   "outputs": [],
   "source": [
    "unique_final_api_intent = list(filter(None, unique_final_api_intent))\n",
    "print(len(unique_final_api_intent))"
   ]
  },
  {
   "cell_type": "code",
   "execution_count": null,
   "id": "crucial-world",
   "metadata": {},
   "outputs": [],
   "source": [
    "print(type(unique_final_api_intent))\n",
    "print(len(unique_final_api_intent))\n",
    "print(unique_final_api_intent)"
   ]
  },
  {
   "cell_type": "code",
   "execution_count": null,
   "id": "burning-switch",
   "metadata": {},
   "outputs": [],
   "source": [
    "try:\n",
    "    permission_data = open(r'unique_permission_intent.txt','wb')\n",
    "    pickle.dump(unique_final_api_intent,permission_data)\n",
    "    permission_data.close()\n",
    "except Exception as e:\n",
    "    print(e)\n",
    "    print(\"permission save failed\")"
   ]
  },
  {
   "cell_type": "code",
   "execution_count": null,
   "id": "direct-performer",
   "metadata": {},
   "outputs": [],
   "source": [
    "\n",
    "api_Benign_paths=glob(f'{api_benign_folder}/*.txt')\n",
    "api_malware_paths=glob(f'{api_malware_folder}/*.txt')"
   ]
  },
  {
   "cell_type": "code",
   "execution_count": null,
   "id": "flying-dodge",
   "metadata": {},
   "outputs": [],
   "source": [
    "def load_feature(path):\n",
    "    with open(path, 'rb') as f:\n",
    "        total_feature = pickle.load(f)\n",
    "        return total_feature\n",
    "unique=load_feature(r'unique_permission_intent.txt')"
   ]
  },
  {
   "cell_type": "code",
   "execution_count": null,
   "id": "designing-copying",
   "metadata": {},
   "outputs": [],
   "source": [
    "print(unique)"
   ]
  },
  {
   "cell_type": "code",
   "execution_count": null,
   "id": "third-reporter",
   "metadata": {},
   "outputs": [],
   "source": [
    "paths=[api_Benign_paths,api_malware_paths]\n",
    "count=0\n",
    "current=0\n",
    "unique_final_api_intent_new=[\"App\"]+unique_final_api_intent+[\"Type\"]\n",
    "print(unique_final_api_intent)\n",
    "with open(r'permisson.csv', 'w') as f:\n",
    "    write = csv.writer(f) \n",
    "    write.writerow(unique_final_api_intent_new)\n",
    "    for path in paths:\n",
    "        if current==0:\n",
    "            Type=0\n",
    "        else:\n",
    "            Type=1\n",
    "        for i in path:\n",
    "            package_name=i.split('\\\\')[-1].replace(\".txt\",\"\")\n",
    "            listofzeros = [0] * len(unique_final_api_intent)\n",
    "            with open(i, 'rb') as f:\n",
    "                prem_intent = pickle.load(f)\n",
    "            prem_intent = list(filter(None, prem_intent))\n",
    "            for element in prem_intent:\n",
    "                if element in unique_final_api_intent:\n",
    "                    index = unique_final_api_intent.index(element)\n",
    "                    listofzeros[index]=1\n",
    "                else:\n",
    "                    print(element+\"--\"+\"not present\")\n",
    "            final_index=[package_name]+listofzeros+[Type]\n",
    "            write.writerow(final_index)\n",
    "            count=count+1\n",
    "            print(count)\n",
    "        current=current+1"
   ]
  },
  {
   "cell_type": "code",
   "execution_count": null,
   "id": "violent-intellectual",
   "metadata": {},
   "outputs": [],
   "source": [
    "data_permission = pandas.read_csv(r'permisson.csv')\n",
    "print(data_permission.shape)\n",
    "data_permission\n"
   ]
  },
  {
   "cell_type": "code",
   "execution_count": null,
   "id": "ordered-opinion",
   "metadata": {},
   "outputs": [],
   "source": [
    "header_list=[]\n",
    "for i in range(32):\n",
    "    header_list.append(str(\"emb\")+str(i))\n",
    "header_list=['App']+header_list+['label']\n",
    "print(header_list)"
   ]
  },
  {
   "cell_type": "code",
   "execution_count": null,
   "id": "atlantic-freeze",
   "metadata": {},
   "outputs": [],
   "source": [
    "embedding=pandas.read_csv(r'D:\\Andriod_GCN_andVGAEMalGAN\\GNN\\embeddingsage.csv',names=header_list)\n",
    "embedding"
   ]
  },
  {
   "cell_type": "code",
   "execution_count": null,
   "id": "supreme-afghanistan",
   "metadata": {},
   "outputs": [],
   "source": [
    "data_permission = data_permission.drop('Type' , axis='columns')\n",
    "data_permission"
   ]
  },
  {
   "cell_type": "code",
   "execution_count": null,
   "id": "aboriginal-divide",
   "metadata": {},
   "outputs": [],
   "source": [
    "dfinal = data_permission.merge(embedding, how='inner', left_on='App', right_on='App')\n",
    "dfinal"
   ]
  },
  {
   "cell_type": "code",
   "execution_count": null,
   "id": "spoken-involvement",
   "metadata": {},
   "outputs": [],
   "source": [
    "dfinal.to_csv(r'permission_embedding.csv',index=False)"
   ]
  }
 ],
 "metadata": {
  "kernelspec": {
   "display_name": "Python 3",
   "language": "python",
   "name": "python3"
  },
  "language_info": {
   "codemirror_mode": {
    "name": "ipython",
    "version": 3
   },
   "file_extension": ".py",
   "mimetype": "text/x-python",
   "name": "python",
   "nbconvert_exporter": "python",
   "pygments_lexer": "ipython3",
   "version": "3.6.5"
  }
 },
 "nbformat": 4,
 "nbformat_minor": 5
}
