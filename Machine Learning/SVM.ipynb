{
 "cells": [
  {
   "cell_type": "code",
   "execution_count": 2,
   "id": "frozen-pendant",
   "metadata": {},
   "outputs": [],
   "source": [
    "import pandas as pd\n",
    "from scipy.io import arff\n",
    "import pandas as pd\n",
    "import csv\n",
    "import numpy as np\n",
    "import matplotlib.pyplot as plt\n",
    "from sklearn.svm import SVC \n",
    "from sklearn.model_selection import GridSearchCV \n",
    "from sklearn.preprocessing import MinMaxScaler\n",
    "from sklearn.preprocessing import Normalizer\n",
    "from sklearn.preprocessing import StandardScaler\n",
    "import pickle"
   ]
  },
  {
   "cell_type": "code",
   "execution_count": 3,
   "id": "friendly-humanity",
   "metadata": {},
   "outputs": [
    {
     "data": {
      "text/html": [
       "<div>\n",
       "<style scoped>\n",
       "    .dataframe tbody tr th:only-of-type {\n",
       "        vertical-align: middle;\n",
       "    }\n",
       "\n",
       "    .dataframe tbody tr th {\n",
       "        vertical-align: top;\n",
       "    }\n",
       "\n",
       "    .dataframe thead th {\n",
       "        text-align: right;\n",
       "    }\n",
       "</style>\n",
       "<table border=\"1\" class=\"dataframe\">\n",
       "  <thead>\n",
       "    <tr style=\"text-align: right;\">\n",
       "      <th></th>\n",
       "      <th>App</th>\n",
       "      <th>com.mxmobile.mx20120309.permission.C2D_MESSAGE</th>\n",
       "      <th>COM.FSS.LOCK</th>\n",
       "      <th>com.wWebLoicbyalfred.permission.C2D_MESSAGE</th>\n",
       "      <th>android.permission.BIND_WALLPAPER</th>\n",
       "      <th>action_loadback</th>\n",
       "      <th>com.anydown.wjbb.SYSINSTALL_APK</th>\n",
       "      <th>com.wadventureques.permission.C2D_MESSAGE</th>\n",
       "      <th>android.intent.action.VIEW</th>\n",
       "      <th>COM.FSS.INS</th>\n",
       "      <th>...</th>\n",
       "      <th>emb24</th>\n",
       "      <th>emb25</th>\n",
       "      <th>emb26</th>\n",
       "      <th>emb27</th>\n",
       "      <th>emb28</th>\n",
       "      <th>emb29</th>\n",
       "      <th>emb30</th>\n",
       "      <th>emb31</th>\n",
       "      <th>emb32</th>\n",
       "      <th>emb33</th>\n",
       "    </tr>\n",
       "  </thead>\n",
       "  <tbody>\n",
       "    <tr>\n",
       "      <th>0</th>\n",
       "      <td>04935f30d9a32b04ef9f65ebaf75d50eef1e9c11e0a97f...</td>\n",
       "      <td>0</td>\n",
       "      <td>0</td>\n",
       "      <td>0</td>\n",
       "      <td>0</td>\n",
       "      <td>0</td>\n",
       "      <td>0</td>\n",
       "      <td>0</td>\n",
       "      <td>0</td>\n",
       "      <td>0</td>\n",
       "      <td>...</td>\n",
       "      <td>0.293282</td>\n",
       "      <td>0.303603</td>\n",
       "      <td>0.382468</td>\n",
       "      <td>0.402910</td>\n",
       "      <td>0.404957</td>\n",
       "      <td>0.389828</td>\n",
       "      <td>0.213044</td>\n",
       "      <td>-0.464500</td>\n",
       "      <td>0.541421</td>\n",
       "      <td>1</td>\n",
       "    </tr>\n",
       "    <tr>\n",
       "      <th>1</th>\n",
       "      <td>f6fd5e739087d6f11daab8b2d59319f07d224f7195ab1b...</td>\n",
       "      <td>0</td>\n",
       "      <td>0</td>\n",
       "      <td>0</td>\n",
       "      <td>0</td>\n",
       "      <td>0</td>\n",
       "      <td>0</td>\n",
       "      <td>0</td>\n",
       "      <td>0</td>\n",
       "      <td>0</td>\n",
       "      <td>...</td>\n",
       "      <td>-0.671232</td>\n",
       "      <td>-0.654310</td>\n",
       "      <td>-0.632948</td>\n",
       "      <td>-0.750866</td>\n",
       "      <td>-0.589620</td>\n",
       "      <td>-0.637099</td>\n",
       "      <td>-0.743500</td>\n",
       "      <td>0.467523</td>\n",
       "      <td>-0.590537</td>\n",
       "      <td>0</td>\n",
       "    </tr>\n",
       "  </tbody>\n",
       "</table>\n",
       "<p>2 rows × 386 columns</p>\n",
       "</div>"
      ],
      "text/plain": [
       "                                                 App  \\\n",
       "0  04935f30d9a32b04ef9f65ebaf75d50eef1e9c11e0a97f...   \n",
       "1  f6fd5e739087d6f11daab8b2d59319f07d224f7195ab1b...   \n",
       "\n",
       "   com.mxmobile.mx20120309.permission.C2D_MESSAGE  COM.FSS.LOCK  \\\n",
       "0                                               0             0   \n",
       "1                                               0             0   \n",
       "\n",
       "   com.wWebLoicbyalfred.permission.C2D_MESSAGE  \\\n",
       "0                                            0   \n",
       "1                                            0   \n",
       "\n",
       "   android.permission.BIND_WALLPAPER  action_loadback  \\\n",
       "0                                  0                0   \n",
       "1                                  0                0   \n",
       "\n",
       "   com.anydown.wjbb.SYSINSTALL_APK  com.wadventureques.permission.C2D_MESSAGE  \\\n",
       "0                                0                                          0   \n",
       "1                                0                                          0   \n",
       "\n",
       "   android.intent.action.VIEW  COM.FSS.INS  ...     emb24     emb25     emb26  \\\n",
       "0                           0            0  ...  0.293282  0.303603  0.382468   \n",
       "1                           0            0  ... -0.671232 -0.654310 -0.632948   \n",
       "\n",
       "      emb27     emb28     emb29     emb30     emb31     emb32  emb33  \n",
       "0  0.402910  0.404957  0.389828  0.213044 -0.464500  0.541421      1  \n",
       "1 -0.750866 -0.589620 -0.637099 -0.743500  0.467523 -0.590537      0  \n",
       "\n",
       "[2 rows x 386 columns]"
      ]
     },
     "execution_count": 3,
     "metadata": {},
     "output_type": "execute_result"
    }
   ],
   "source": [
    "pe_train_df=pd.read_csv(r'../permission_emb_train.csv')\n",
    "pe_train_df.head(2)"
   ]
  },
  {
   "cell_type": "code",
   "execution_count": 4,
   "id": "d50bad36",
   "metadata": {},
   "outputs": [
    {
     "data": {
      "text/html": [
       "<div>\n",
       "<style scoped>\n",
       "    .dataframe tbody tr th:only-of-type {\n",
       "        vertical-align: middle;\n",
       "    }\n",
       "\n",
       "    .dataframe tbody tr th {\n",
       "        vertical-align: top;\n",
       "    }\n",
       "\n",
       "    .dataframe thead th {\n",
       "        text-align: right;\n",
       "    }\n",
       "</style>\n",
       "<table border=\"1\" class=\"dataframe\">\n",
       "  <thead>\n",
       "    <tr style=\"text-align: right;\">\n",
       "      <th></th>\n",
       "      <th>App</th>\n",
       "      <th>com.mxmobile.mx20120309.permission.C2D_MESSAGE</th>\n",
       "      <th>COM.FSS.LOCK</th>\n",
       "      <th>com.wWebLoicbyalfred.permission.C2D_MESSAGE</th>\n",
       "      <th>android.permission.BIND_WALLPAPER</th>\n",
       "      <th>action_loadback</th>\n",
       "      <th>com.anydown.wjbb.SYSINSTALL_APK</th>\n",
       "      <th>com.wadventureques.permission.C2D_MESSAGE</th>\n",
       "      <th>android.intent.action.VIEW</th>\n",
       "      <th>COM.FSS.INS</th>\n",
       "      <th>...</th>\n",
       "      <th>emb24</th>\n",
       "      <th>emb25</th>\n",
       "      <th>emb26</th>\n",
       "      <th>emb27</th>\n",
       "      <th>emb28</th>\n",
       "      <th>emb29</th>\n",
       "      <th>emb30</th>\n",
       "      <th>emb31</th>\n",
       "      <th>emb32</th>\n",
       "      <th>emb33</th>\n",
       "    </tr>\n",
       "  </thead>\n",
       "  <tbody>\n",
       "    <tr>\n",
       "      <th>0</th>\n",
       "      <td>f715de1e4df2c0a91e1c9a61c9f31864a6b24c207a10be...</td>\n",
       "      <td>0</td>\n",
       "      <td>0</td>\n",
       "      <td>0</td>\n",
       "      <td>0</td>\n",
       "      <td>0</td>\n",
       "      <td>0</td>\n",
       "      <td>0</td>\n",
       "      <td>0</td>\n",
       "      <td>0</td>\n",
       "      <td>...</td>\n",
       "      <td>-0.315191</td>\n",
       "      <td>-0.364762</td>\n",
       "      <td>-0.241296</td>\n",
       "      <td>-0.390212</td>\n",
       "      <td>-0.271694</td>\n",
       "      <td>-0.353278</td>\n",
       "      <td>-0.447053</td>\n",
       "      <td>0.152264</td>\n",
       "      <td>-0.270066</td>\n",
       "      <td>0</td>\n",
       "    </tr>\n",
       "    <tr>\n",
       "      <th>1</th>\n",
       "      <td>e0f4a0180e0c559d572ce7b1ae581051cd34e2653cb573...</td>\n",
       "      <td>0</td>\n",
       "      <td>0</td>\n",
       "      <td>0</td>\n",
       "      <td>0</td>\n",
       "      <td>0</td>\n",
       "      <td>0</td>\n",
       "      <td>0</td>\n",
       "      <td>0</td>\n",
       "      <td>0</td>\n",
       "      <td>...</td>\n",
       "      <td>-0.089483</td>\n",
       "      <td>-0.199287</td>\n",
       "      <td>-0.110638</td>\n",
       "      <td>-0.146773</td>\n",
       "      <td>-0.083816</td>\n",
       "      <td>-0.214742</td>\n",
       "      <td>-0.218759</td>\n",
       "      <td>0.044780</td>\n",
       "      <td>0.041495</td>\n",
       "      <td>0</td>\n",
       "    </tr>\n",
       "  </tbody>\n",
       "</table>\n",
       "<p>2 rows × 386 columns</p>\n",
       "</div>"
      ],
      "text/plain": [
       "                                                 App  \\\n",
       "0  f715de1e4df2c0a91e1c9a61c9f31864a6b24c207a10be...   \n",
       "1  e0f4a0180e0c559d572ce7b1ae581051cd34e2653cb573...   \n",
       "\n",
       "   com.mxmobile.mx20120309.permission.C2D_MESSAGE  COM.FSS.LOCK  \\\n",
       "0                                               0             0   \n",
       "1                                               0             0   \n",
       "\n",
       "   com.wWebLoicbyalfred.permission.C2D_MESSAGE  \\\n",
       "0                                            0   \n",
       "1                                            0   \n",
       "\n",
       "   android.permission.BIND_WALLPAPER  action_loadback  \\\n",
       "0                                  0                0   \n",
       "1                                  0                0   \n",
       "\n",
       "   com.anydown.wjbb.SYSINSTALL_APK  com.wadventureques.permission.C2D_MESSAGE  \\\n",
       "0                                0                                          0   \n",
       "1                                0                                          0   \n",
       "\n",
       "   android.intent.action.VIEW  COM.FSS.INS  ...     emb24     emb25     emb26  \\\n",
       "0                           0            0  ... -0.315191 -0.364762 -0.241296   \n",
       "1                           0            0  ... -0.089483 -0.199287 -0.110638   \n",
       "\n",
       "      emb27     emb28     emb29     emb30     emb31     emb32  emb33  \n",
       "0 -0.390212 -0.271694 -0.353278 -0.447053  0.152264 -0.270066      0  \n",
       "1 -0.146773 -0.083816 -0.214742 -0.218759  0.044780  0.041495      0  \n",
       "\n",
       "[2 rows x 386 columns]"
      ]
     },
     "execution_count": 4,
     "metadata": {},
     "output_type": "execute_result"
    }
   ],
   "source": [
    "pe_test_df=pd.read_csv(r'../permission_emb_test.csv')\n",
    "pe_test_df.head(2)"
   ]
  },
  {
   "cell_type": "code",
   "execution_count": 5,
   "id": "superior-instrument",
   "metadata": {},
   "outputs": [],
   "source": [
    "X_train_permission=pe_train_df.iloc[:,1:353].values\n",
    "X_test_permission=pe_test_df.iloc[:,1:353].values"
   ]
  },
  {
   "cell_type": "code",
   "execution_count": 8,
   "id": "448c9197",
   "metadata": {},
   "outputs": [],
   "source": [
    "Label_train = pe_train_df.iloc[:,-1:]\n",
    "Label_test=pe_test_df.iloc[:,-1:]\n",
    "Y_train= Label_train['emb33'].values.tolist()\n",
    "Y_test= Label_test['emb33'].values.tolist()"
   ]
  },
  {
   "cell_type": "code",
   "execution_count": 13,
   "id": "organizational-thriller",
   "metadata": {},
   "outputs": [],
   "source": [
    "from sklearn.metrics import confusion_matrix,precision_score,recall_score,f1_score,accuracy_score"
   ]
  },
  {
   "cell_type": "code",
   "execution_count": 11,
   "id": "recent-sigma",
   "metadata": {},
   "outputs": [],
   "source": [
    "def get_performance(real_label,pred_label):\n",
    "    acc=accuracy_score(real_label,pred_label)\n",
    "    print('Accuracy: %f' % acc)\n",
    "    print(confusion_matrix(real_label,pred_label))\n",
    "    precision = precision_score(real_label,pred_label)\n",
    "    print('Precision: %f' % precision)\n",
    "    recall = recall_score(real_label,pred_label)\n",
    "    print('recall: %f' % recall)\n",
    "    f1score= f1_score(real_label,pred_label)\n",
    "    print('f1score: %f' % f1score)\n",
    "    return acc,precision,recall,f1score\n",
    "    "
   ]
  },
  {
   "cell_type": "code",
   "execution_count": 9,
   "id": "841a88b1",
   "metadata": {},
   "outputs": [
    {
     "data": {
      "text/plain": [
       "SVC(C=10, gamma=0.1, probability=True)"
      ]
     },
     "execution_count": 9,
     "metadata": {},
     "output_type": "execute_result"
    }
   ],
   "source": [
    "perm_model = SVC(C=10,gamma=0.1,kernel='rbf', probability=True) \n",
    "perm_model.fit(X_train_permission, Y_train) "
   ]
  },
  {
   "cell_type": "code",
   "execution_count": 14,
   "id": "dc9be05d",
   "metadata": {},
   "outputs": [],
   "source": [
    "predictions = perm_model.predict(X_test_permission) "
   ]
  },
  {
   "cell_type": "code",
   "execution_count": 15,
   "id": "b7f63e1c",
   "metadata": {},
   "outputs": [
    {
     "name": "stdout",
     "output_type": "stream",
     "text": [
      "Accuracy: 0.978419\n",
      "[[15162    91]\n",
      " [  274  1386]]\n",
      "Precision: 0.938389\n",
      "recall: 0.834940\n",
      "f1score: 0.883647\n"
     ]
    }
   ],
   "source": [
    "acc,precision,recall,f1score=get_performance(Y_test,predictions)"
   ]
  },
  {
   "cell_type": "code",
   "execution_count": 18,
   "id": "56565dce",
   "metadata": {},
   "outputs": [
    {
     "data": {
      "text/plain": [
       "SVC(C=10, gamma=0.1, probability=True)"
      ]
     },
     "execution_count": 18,
     "metadata": {},
     "output_type": "execute_result"
    }
   ],
   "source": [
    "emb_model_new = SVC(C=10,gamma=0.1,kernel='rbf', probability=True) \n",
    "emb_model_new.fit(pe_train_df.iloc[:,1:385].values, Y_train) "
   ]
  },
  {
   "cell_type": "code",
   "execution_count": 19,
   "id": "5a4c2381",
   "metadata": {},
   "outputs": [
    {
     "name": "stdout",
     "output_type": "stream",
     "text": [
      "Accuracy: 0.986519\n",
      "[[15183    70]\n",
      " [  158  1502]]\n",
      "Precision: 0.955471\n",
      "recall: 0.904819\n",
      "f1score: 0.929455\n"
     ]
    }
   ],
   "source": [
    "y_pred_emb = emb_model_new.predict(pe_test_df.iloc[:,1:385].values)\n",
    "acc,precision,recall,f1score=get_performance(Y_test,y_pred_emb)"
   ]
  }
 ],
 "metadata": {
  "kernelspec": {
   "display_name": "Python 3",
   "language": "python",
   "name": "python3"
  },
  "language_info": {
   "codemirror_mode": {
    "name": "ipython",
    "version": 3
   },
   "file_extension": ".py",
   "mimetype": "text/x-python",
   "name": "python",
   "nbconvert_exporter": "python",
   "pygments_lexer": "ipython3",
   "version": "3.6.5"
  }
 },
 "nbformat": 4,
 "nbformat_minor": 5
}
