{
 "cells": [
  {
   "cell_type": "code",
   "execution_count": null,
   "id": "a9d8c6d2",
   "metadata": {},
   "outputs": [],
   "source": [
    "import pandas as pd\n",
    "from scipy.io import arff\n",
    "import pandas as pd\n",
    "import csv\n",
    "import numpy as np\n",
    "# import matplotlib.pyplot as plt\n",
    "# plt.rcParams['figure.figsize']=[16,10]\n",
    "from keras.layers import Input, Dense\n",
    "from keras.models import Model\n",
    "import tensorflow as tf\n",
    "from keras.models import model_from_json\n",
    "from imblearn.over_sampling import RandomOverSampler\n",
    "from imblearn.over_sampling import SMOTE\n",
    "from imblearn.under_sampling import RandomUnderSampler\n",
    "from imblearn.pipeline import Pipeline\n",
    "from sklearn.metrics import confusion_matrix,precision_score,recall_score,f1_score,accuracy_score"
   ]
  },
  {
   "cell_type": "code",
   "execution_count": null,
   "id": "b3ddd90b",
   "metadata": {},
   "outputs": [],
   "source": [
    "import tensorflow as tf\n",
    "config = tf.compat.v1.ConfigProto(gpu_options = \n",
    "                         tf.compat.v1.GPUOptions(per_process_gpu_memory_fraction=0.6)\n",
    "# device_count = {'GPU': 1}\n",
    ")\n",
    "config.gpu_options.allow_growth = True\n",
    "session = tf.compat.v1.Session(config=config)"
   ]
  },
  {
   "cell_type": "code",
   "execution_count": null,
   "id": "30643d94",
   "metadata": {},
   "outputs": [],
   "source": [
    "import os\n",
    "os.environ['TF_FORCE_GPU_ALLOW_GROWTH'] = 'true'"
   ]
  },
  {
   "cell_type": "code",
   "execution_count": null,
   "id": "0f4a8790",
   "metadata": {},
   "outputs": [],
   "source": [
    "header_list=[]\n",
    "for i in range(32):\n",
    "    header_list.append(str(\"emb\")+str(i))\n",
    "header_list=['App']+header_list+['Type']"
   ]
  },
  {
   "cell_type": "code",
   "execution_count": null,
   "id": "53259f3c",
   "metadata": {},
   "outputs": [],
   "source": [
    "api_embedding=pd.read_csv('Mal2020graphembeddingfull_94acc.csv',names=header_list)\n",
    "api_embedding"
   ]
  },
  {
   "cell_type": "code",
   "execution_count": null,
   "id": "0fb5616e",
   "metadata": {},
   "outputs": [],
   "source": [
    "permission=pd.read_csv('permission_reduced_mal2020.csv')\n",
    "permission"
   ]
  },
  {
   "cell_type": "code",
   "execution_count": null,
   "id": "b089474a",
   "metadata": {},
   "outputs": [],
   "source": [
    "permission = permission.drop('Type' , axis='columns')\n",
    "permission"
   ]
  },
  {
   "cell_type": "code",
   "execution_count": null,
   "id": "d88db72e",
   "metadata": {},
   "outputs": [],
   "source": [
    "dfinal = permission.merge(api_embedding, how='inner', left_on='App', right_on='App')\n",
    "dfinal"
   ]
  },
  {
   "cell_type": "code",
   "execution_count": null,
   "id": "84856229",
   "metadata": {},
   "outputs": [],
   "source": [
    "# dfinal.to_csv(r'permission_embedding_full.csv',index=False)"
   ]
  },
  {
   "cell_type": "code",
   "execution_count": null,
   "id": "6ac56974",
   "metadata": {},
   "outputs": [],
   "source": [
    "dfinal = dfinal.sample(frac=1)\n",
    "dfinal"
   ]
  },
  {
   "cell_type": "code",
   "execution_count": null,
   "id": "b6b1e71b",
   "metadata": {},
   "outputs": [],
   "source": [
    "train_df=dfinal.iloc[:11061]\n",
    "print(train_df.shape)\n",
    "test_df=dfinal.iloc[11061:]\n",
    "print(test_df.shape)"
   ]
  },
  {
   "cell_type": "code",
   "execution_count": null,
   "id": "810d6108",
   "metadata": {},
   "outputs": [],
   "source": [
    "Label_train = train_df.iloc[:,-1:]\n",
    "Label_test= test_df.iloc[:,-1:]\n",
    "Y_train= Label_train['Type'].values.tolist()\n",
    "Y_test= Label_test['Type'].values.tolist()\n"
   ]
  },
  {
   "cell_type": "code",
   "execution_count": null,
   "id": "0ed8df41",
   "metadata": {},
   "outputs": [],
   "source": [
    "one_hot_targets = np.eye(2)[Y_train]\n",
    "one_hot_targets_test = np.eye(2)[Y_test]"
   ]
  },
  {
   "cell_type": "code",
   "execution_count": null,
   "id": "2924596c",
   "metadata": {},
   "outputs": [],
   "source": [
    "print(len(Y_train))\n",
    "print(len(Y_test))"
   ]
  },
  {
   "cell_type": "code",
   "execution_count": null,
   "id": "f2873818",
   "metadata": {},
   "outputs": [],
   "source": [
    "X_train_permission=train_df.iloc[:,1:6852]\n",
    "X_train_embedding=train_df.iloc[:,6852:6884]"
   ]
  },
  {
   "cell_type": "code",
   "execution_count": null,
   "id": "9a8c78bd",
   "metadata": {},
   "outputs": [],
   "source": [
    "X_test_permission=test_df.iloc[:,1:6852]\n",
    "X_test_embedding=test_df.iloc[:,6852:6884]"
   ]
  },
  {
   "cell_type": "code",
   "execution_count": null,
   "id": "60ef8494",
   "metadata": {},
   "outputs": [],
   "source": [
    "from __future__ import print_function\n",
    "import numpy as np\n",
    "\n",
    "from keras.preprocessing import sequence\n",
    "from keras.models import Sequential\n",
    "from keras.layers import Dense, Dropout, Embedding, LSTM, Bidirectional,SimpleRNN,GRU,Reshape,TimeDistributed,concatenate,BatchNormalization\n",
    "from keras.layers import Conv1D, GlobalMaxPooling1D, Activation, Flatten, UpSampling1D\n",
    "from keras.layers.convolutional import MaxPooling1D\n",
    "from keras.layers.advanced_activations import LeakyReLU\n",
    "from keras.datasets import imdb\n",
    "from keras.models import model_from_json\n",
    "from sklearn.metrics import precision_score\n",
    "from sklearn.metrics import recall_score\n",
    "from sklearn import preprocessing\n",
    "from sklearn.metrics import accuracy_score\n",
    "from sklearn.metrics import confusion_matrix\n",
    "from keras.optimizers import Adam\n",
    "from keras.backend.tensorflow_backend import set_session\n",
    "from keras.backend.tensorflow_backend import clear_session\n",
    "from keras.backend.tensorflow_backend import get_session  \n",
    "import keras_metrics\n",
    "import keras\n",
    "from tensorflow.keras import metrics"
   ]
  },
  {
   "cell_type": "code",
   "execution_count": null,
   "id": "cc7e92eb",
   "metadata": {},
   "outputs": [],
   "source": [
    "def network(C,emb,lr,beta1,beta2,myepsilon,convs):\n",
    "    print('Number of layer',C)\n",
    "    print('emb size',emb)\n",
    "    print('learning rate',lr)\n",
    "    print('beta1 size',beta1)\n",
    "    print('beta2 size',beta2)\n",
    "    print('epsilon size',myepsilon)\n",
    "    print('convs size',convs)\n",
    "    max_features=6851\n",
    "    maxlen = 6851 # used in google\n",
    "    batch_size = 32# used in google\n",
    "    sequence = Input(shape=(max_features,), name='Sequence')\n",
    "    features = Input(shape=(32,), name='Features')\n",
    "    bm25_features = Input(shape=(999,), name='BMFeatures')\n",
    "    #embedding size\n",
    "    if emb<200:\n",
    "        emb=100\n",
    "    elif emb < 300:\n",
    "        emb=200\n",
    "    elif emb < 400:\n",
    "        emb=300\n",
    "    elif emb <500:\n",
    "        emb=400\n",
    "    elif emb <600:\n",
    "        emb=500\n",
    "    elif emb <700:\n",
    "        emb=600\n",
    "    else:\n",
    "        emb=700\n",
    "    #conv size\n",
    "    if convs<64:\n",
    "        convs=32\n",
    "    elif convs<128:\n",
    "        convs=64\n",
    "    elif convs<130:\n",
    "        convs=128\n",
    "    \n",
    "    x=Embedding(max_features,emb, input_length=maxlen)(sequence)\n",
    "    for i in range(0,C):\n",
    "#         x=Dropout(0.2)(x)\n",
    "        x=Conv1D(convs,5,padding='same',activation='relu',dilation_rate=1)(x)\n",
    "        x=MaxPooling1D(pool_size=2)(x)\n",
    "    output_tensor=GlobalMaxPooling1D()(x)\n",
    "#     cnn_model = Model(inputs=sequence, outputs=output_tensor)\n",
    "    merged = concatenate([output_tensor,features])\n",
    "    final=Dense(96,activation='relu')(merged)\n",
    "#     final = Dropout(0.5)(final)\n",
    "    final=Dense(96,activation='relu')(final)\n",
    "    final=Dense(96,activation='relu')(final)\n",
    "    final = Dense(1, activation='sigmoid')(final)\n",
    "\n",
    "    model = Model(inputs=[sequence,features], outputs=[final])\n",
    "    optimizer = tf.keras.optimizers.Adam(learning_rate=lr,beta_1=beta1,beta_2=beta2,epsilon=myepsilon)\n",
    "\n",
    "    model.compile(loss='binary_crossentropy', optimizer=optimizer,metrics=[metrics.Precision(), metrics.Recall(),'accuracy'])\n",
    "\n",
    "    return model\n"
   ]
  },
  {
   "cell_type": "code",
   "execution_count": null,
   "id": "07257fff",
   "metadata": {},
   "outputs": [],
   "source": [
    "model = network(8,300,0.001,0.9,0.999,1e-07,120)"
   ]
  },
  {
   "cell_type": "code",
   "execution_count": null,
   "id": "c305a51d",
   "metadata": {},
   "outputs": [],
   "source": [
    "model.fit([X_train_permission,X_train_embedding],np.array(Y_train) ,\n",
    "        batch_size=64,\n",
    "        epochs=1,\n",
    "        validation_data=([X_test_permission,X_test_embedding],np.array(Y_test)))"
   ]
  },
  {
   "cell_type": "code",
   "execution_count": null,
   "id": "ac15ed0e",
   "metadata": {},
   "outputs": [],
   "source": [
    "model_json = model.to_json()\n",
    "with open(r\"cnn98-23.json\", \"w\") as json_file:\n",
    "    json_file.write(model_json)\n",
    "# serialize weights to HDF5http://localhost:8891/notebooks/Convolution/Convolution.ipynb#\n",
    "model.save_weights(r\"cnn98-23.h5\")\n",
    "print(\"Saved model to disk\")"
   ]
  },
  {
   "cell_type": "code",
   "execution_count": null,
   "id": "d7685299",
   "metadata": {},
   "outputs": [],
   "source": [
    "pred=model.predict([X_test_permission,X_test_embedding])"
   ]
  },
  {
   "cell_type": "code",
   "execution_count": null,
   "id": "87d82f46",
   "metadata": {},
   "outputs": [],
   "source": [
    "pred_=[]\n",
    "for i in pred:\n",
    "    if i[0]<0.5:\n",
    "        pred_.append(0)\n",
    "    else:\n",
    "        pred_.append(1)"
   ]
  },
  {
   "cell_type": "code",
   "execution_count": null,
   "id": "c6c30278",
   "metadata": {},
   "outputs": [],
   "source": [
    "def get_performance(real_label,pred_label):\n",
    "    acc=accuracy_score(real_label,pred_label)\n",
    "    print('Accuracy: %f' % acc)\n",
    "    print(confusion_matrix(real_label,pred_label))\n",
    "    precision = precision_score(real_label,pred_label)\n",
    "    print('Precision: %f' % precision)\n",
    "    recall = recall_score(real_label,pred_label)\n",
    "    print('recall: %f' % recall)\n",
    "    f1score= f1_score(real_label,pred_label)\n",
    "    print('f1score: %f' % f1score)\n",
    "    return acc,precision,recall,f1score"
   ]
  },
  {
   "cell_type": "code",
   "execution_count": null,
   "id": "6ea8892b",
   "metadata": {},
   "outputs": [],
   "source": [
    "acc,precision,recall,f1score=get_performance(Y_test,pred_)"
   ]
  },
  {
   "cell_type": "code",
   "execution_count": null,
   "id": "7f12c080",
   "metadata": {},
   "outputs": [],
   "source": [
    "# load json and create model\n",
    "json_file = open(r\"cnn98-23.json\", 'r')\n",
    "loaded_model_json = json_file.read()\n",
    "json_file.close()\n",
    "black_box_model = model_from_json(loaded_model_json)\n",
    "# load weights into new model\n",
    "black_box_model.load_weights(r\"cnn98-23.h5\")"
   ]
  },
  {
   "cell_type": "code",
   "execution_count": null,
   "id": "efd1ad00",
   "metadata": {},
   "outputs": [],
   "source": [
    "pred=black_box_model.predict([X_test_permission,X_test_embedding])"
   ]
  },
  {
   "cell_type": "code",
   "execution_count": null,
   "id": "660abdb9",
   "metadata": {},
   "outputs": [],
   "source": [
    "pred_=[]\n",
    "for i in pred:\n",
    "    if i[0]<0.5:\n",
    "        pred_.append(0)\n",
    "    else:\n",
    "        pred_.append(1)"
   ]
  },
  {
   "cell_type": "code",
   "execution_count": null,
   "id": "66f956e6",
   "metadata": {},
   "outputs": [],
   "source": [
    "def get_performance(real_label,pred_label):\n",
    "    acc=accuracy_score(real_label,pred_label)\n",
    "    print('Accuracy: %f' % acc)\n",
    "    print(confusion_matrix(real_label,pred_label))\n",
    "    precision = precision_score(real_label,pred_label)\n",
    "    print('Precision: %f' % precision)\n",
    "    recall = recall_score(real_label,pred_label)\n",
    "    print('recall: %f' % recall)\n",
    "    f1score= f1_score(real_label,pred_label)\n",
    "    print('f1score: %f' % f1score)\n",
    "    return acc,precision,recall,f1score"
   ]
  },
  {
   "cell_type": "code",
   "execution_count": null,
   "id": "49507e1b",
   "metadata": {},
   "outputs": [],
   "source": [
    "acc,precision,recall,f1score=get_performance(Y_test,pred_)"
   ]
  }
 ],
 "metadata": {
  "kernelspec": {
   "display_name": "Python 3",
   "language": "python",
   "name": "python3"
  },
  "language_info": {
   "codemirror_mode": {
    "name": "ipython",
    "version": 3
   },
   "file_extension": ".py",
   "mimetype": "text/x-python",
   "name": "python",
   "nbconvert_exporter": "python",
   "pygments_lexer": "ipython3",
   "version": "3.6.5"
  }
 },
 "nbformat": 4,
 "nbformat_minor": 5
}
