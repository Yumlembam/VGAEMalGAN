{
 "cells": [
  {
   "cell_type": "code",
   "execution_count": null,
   "id": "ready-ethics",
   "metadata": {},
   "outputs": [],
   "source": [
    "from sklearn.ensemble import RandomForestClassifier \n",
    "import pandas as pd\n",
    "import numpy as np\n",
    "import pickle\n",
    "from sklearn.metrics import confusion_matrix,precision_score,recall_score,f1_score,accuracy_score"
   ]
  },
  {
   "cell_type": "code",
   "execution_count": null,
   "id": "focused-italic",
   "metadata": {},
   "outputs": [],
   "source": [
    "pe_train_df=pd.read_csv(r'../permission_emb_train.csv')\n",
    "pe_train_df.head(2)"
   ]
  },
  {
   "cell_type": "code",
   "execution_count": null,
   "id": "5d7ca440",
   "metadata": {},
   "outputs": [],
   "source": [
    "pe_test_df=pd.read_csv(r'../permission_emb_test.csv')\n",
    "pe_test_df.head(2)"
   ]
  },
  {
   "cell_type": "code",
   "execution_count": null,
   "id": "e5fbab2c",
   "metadata": {},
   "outputs": [],
   "source": [
    "X_train_permission=pe_train_df.iloc[:,1:353].values\n",
    "X_test_permission=pe_test_df.iloc[:,1:353].values"
   ]
  },
  {
   "cell_type": "code",
   "execution_count": null,
   "id": "951756f0",
   "metadata": {},
   "outputs": [],
   "source": [
    "Label_train = pe_train_df.iloc[:,-1:]\n",
    "Label_test=pe_test_df.iloc[:,-1:]\n",
    "Y_train= Label_train['emb33'].values.tolist()\n",
    "Y_test= Label_test['emb33'].values.tolist()"
   ]
  },
  {
   "cell_type": "code",
   "execution_count": null,
   "id": "empty-playlist",
   "metadata": {},
   "outputs": [],
   "source": [
    "clf = RandomForestClassifier(n_estimators = 50)  \n",
    "clf.fit(X_train_permission, Y_train) "
   ]
  },
  {
   "cell_type": "code",
   "execution_count": null,
   "id": "ethical-grove",
   "metadata": {},
   "outputs": [],
   "source": [
    "def get_performance(real_label,pred_label):\n",
    "    acc=accuracy_score(real_label,pred_label)\n",
    "    print('Accuracy: %f' % acc)\n",
    "    print(confusion_matrix(real_label,pred_label))\n",
    "    precision = precision_score(real_label,pred_label)\n",
    "    print('Precision: %f' % precision)\n",
    "    recall = recall_score(real_label,pred_label)\n",
    "    print('recall: %f' % recall)\n",
    "    f1score= f1_score(real_label,pred_label)\n",
    "    print('f1score: %f' % f1score)\n",
    "    return acc,precision,recall,f1score"
   ]
  },
  {
   "cell_type": "code",
   "execution_count": null,
   "id": "bearing-mounting",
   "metadata": {},
   "outputs": [],
   "source": [
    "y_pred = clf.predict(X_test_permission)\n",
    "print(y_pred)"
   ]
  },
  {
   "cell_type": "code",
   "execution_count": null,
   "id": "foster-logistics",
   "metadata": {},
   "outputs": [],
   "source": [
    "acc,precision,recall,f1score=get_performance(Y_test,y_pred)"
   ]
  }
 ],
 "metadata": {
  "kernelspec": {
   "display_name": "Python 3",
   "language": "python",
   "name": "python3"
  },
  "language_info": {
   "codemirror_mode": {
    "name": "ipython",
    "version": 3
   },
   "file_extension": ".py",
   "mimetype": "text/x-python",
   "name": "python",
   "nbconvert_exporter": "python",
   "pygments_lexer": "ipython3",
   "version": "3.6.5"
  }
 },
 "nbformat": 4,
 "nbformat_minor": 5
}
